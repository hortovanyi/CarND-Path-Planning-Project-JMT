{
 "cells": [
  {
   "cell_type": "code",
   "execution_count": 1,
   "metadata": {
    "collapsed": true
   },
   "outputs": [],
   "source": [
    "import pandas as pd\n",
    "import math\n",
    "import numpy as np\n",
    "import matplotlib.pyplot as plt\n",
    "from ipywidgets import interact, interactive, fixed\n",
    "%matplotlib inline\n",
    "plt.rcParams[\"figure.figsize\"] = [20, 7]"
   ]
  },
  {
   "cell_type": "code",
   "execution_count": 2,
   "metadata": {
    "collapsed": true
   },
   "outputs": [],
   "source": [
    "def logistic(x):\n",
    "    \"\"\"\n",
    "    A function that returns a value between 0 and 1 for x in the \n",
    "    range [0, infinity] and -1 to 1 for x in the range [-infinity, infinity].\n",
    "\n",
    "    Useful for cost functions.\n",
    "    \"\"\"\n",
    "    return 2.0 / (1 + exp(-x)) - 1.0\n",
    "\n",
    "def to_equation(coefficients):\n",
    "    \"\"\"\n",
    "    Takes the coefficients of a polynomial and creates a function of\n",
    "    time from them.\n",
    "    \"\"\"\n",
    "    def f(t):\n",
    "        total = 0.0\n",
    "        for i, c in enumerate(coefficients): \n",
    "            total += c * t ** i\n",
    "        return total\n",
    "    return f\n",
    "\n",
    "def differentiate(coefficients):\n",
    "    \"\"\"\n",
    "    Calculates the derivative of a polynomial and returns\n",
    "    the corresponding coefficients.\n",
    "    \"\"\"\n",
    "    new_cos = []\n",
    "    for deg, prev_co in enumerate(coefficients[1:]):\n",
    "        new_cos.append((deg+1) * prev_co)\n",
    "    return new_cos"
   ]
  },
  {
   "cell_type": "code",
   "execution_count": 13,
   "metadata": {
    "collapsed": true
   },
   "outputs": [],
   "source": [
    "coefficients=[124.834,0,0,28.5,-20,3.875]"
   ]
  },
  {
   "cell_type": "code",
   "execution_count": 14,
   "metadata": {},
   "outputs": [
    {
     "data": {
      "text/plain": [
       "156.834"
      ]
     },
     "execution_count": 14,
     "metadata": {},
     "output_type": "execute_result"
    }
   ],
   "source": [
    "s=to_equation(coefficients)\n",
    "s(2)"
   ]
  },
  {
   "cell_type": "code",
   "execution_count": 15,
   "metadata": {
    "collapsed": true
   },
   "outputs": [],
   "source": [
    "s_dot=to_equation(differentiate(coefficients))"
   ]
  },
  {
   "cell_type": "code",
   "execution_count": 16,
   "metadata": {},
   "outputs": [
    {
     "data": {
      "text/plain": [
       "12.0"
      ]
     },
     "execution_count": 16,
     "metadata": {},
     "output_type": "execute_result"
    }
   ],
   "source": [
    "s_dot(2)"
   ]
  },
  {
   "cell_type": "code",
   "execution_count": 17,
   "metadata": {
    "collapsed": true
   },
   "outputs": [],
   "source": [
    "s_dot_dot=to_equation(differentiate(differentiate(coefficients)))"
   ]
  },
  {
   "cell_type": "code",
   "execution_count": 18,
   "metadata": {},
   "outputs": [
    {
     "data": {
      "text/plain": [
       "2.0"
      ]
     },
     "execution_count": 18,
     "metadata": {},
     "output_type": "execute_result"
    }
   ],
   "source": [
    "s_dot_dot(2)"
   ]
  },
  {
   "cell_type": "code",
   "execution_count": 19,
   "metadata": {},
   "outputs": [
    {
     "name": "stdout",
     "output_type": "stream",
     "text": [
      "0 124.834\n",
      "1 0\n",
      "2 0\n",
      "3 28.5\n",
      "4 -20\n",
      "5 3.875\n"
     ]
    }
   ],
   "source": [
    "for i, c in enumerate(coefficients):\n",
    "    print(i,c)"
   ]
  },
  {
   "cell_type": "code",
   "execution_count": 20,
   "metadata": {},
   "outputs": [
    {
     "data": {
      "text/plain": [
       "[0, 0, 85.5, -80, 19.375]"
      ]
     },
     "execution_count": 20,
     "metadata": {},
     "output_type": "execute_result"
    }
   ],
   "source": [
    "differentiate(coefficients)"
   ]
  },
  {
   "cell_type": "code",
   "execution_count": 21,
   "metadata": {},
   "outputs": [
    {
     "data": {
      "text/plain": [
       "[0, 0, 28.5, -20, 3.875]"
      ]
     },
     "execution_count": 21,
     "metadata": {},
     "output_type": "execute_result"
    }
   ],
   "source": [
    "coefficients[1:]"
   ]
  },
  {
   "cell_type": "code",
   "execution_count": 22,
   "metadata": {},
   "outputs": [
    {
     "data": {
      "text/plain": [
       "[0, 171.0, -240, 77.5]"
      ]
     },
     "execution_count": 22,
     "metadata": {},
     "output_type": "execute_result"
    }
   ],
   "source": [
    "differentiate(differentiate(coefficients))"
   ]
  },
  {
   "cell_type": "code",
   "execution_count": null,
   "metadata": {
    "collapsed": true
   },
   "outputs": [],
   "source": []
  }
 ],
 "metadata": {
  "kernelspec": {
   "display_name": "Python 3",
   "language": "python",
   "name": "python3"
  },
  "language_info": {
   "codemirror_mode": {
    "name": "ipython",
    "version": 3
   },
   "file_extension": ".py",
   "mimetype": "text/x-python",
   "name": "python",
   "nbconvert_exporter": "python",
   "pygments_lexer": "ipython3",
   "version": "3.6.2"
  }
 },
 "nbformat": 4,
 "nbformat_minor": 2
}
