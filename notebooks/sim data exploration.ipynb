{
 "cells": [
  {
   "cell_type": "code",
   "execution_count": 6,
   "metadata": {
    "collapsed": true
   },
   "outputs": [],
   "source": [
    "import pandas as pd\n",
    "import math\n",
    "import numpy as np\n",
    "import matplotlib.pyplot as plt\n",
    "from ipywidgets import interact, interactive, fixed\n",
    "%matplotlib inline\n",
    "plt.rcParams[\"figure.figsize\"] = [20, 7]"
   ]
  },
  {
   "cell_type": "code",
   "execution_count": 7,
   "metadata": {
    "collapsed": true
   },
   "outputs": [],
   "source": [
    "# data sent to sim\n",
    "nextx=[\n",
    "    909.846,909.995,910.178,910.397,910.654,910.952,911.294,911.68,912.113,912.593,913.124,913.704,914.336,915.021,915.758,916.549,917.394,918.293,919.246,920.253,921.314,922.429,923.597,924.817,926.089,927.413,928.786,930.209,931.679,933.197,934.759,936.363,938.007,939.692,941.416,943.177,944.973,946.802,948.663,950.553,952.471,954.413,956.379,958.366,960.371,962.392,964.427,966.474,968.529,970.591\n",
    "      ]\n",
    "nexty=[\n",
    "    1128.61,1128.6,1128.6,1128.6,1128.6,1128.6,1128.6,1128.6,1128.59,1128.59,1128.59,1128.59,1128.59,1128.58,1128.58,1128.58,1128.58,1128.58,1128.58,1128.59,1128.59,1128.6,1128.61,1128.63,1128.65,1128.67,1128.71,1128.74,1128.79,1128.85,1128.91,1128.99,1129.09,1129.21,1129.34,1129.48,1129.64,1129.82,1130.01,1130.21,1130.44,1130.67,1130.93,1131.2,1131.48,1131.78,1132.1,1132.42,1132.74,1133.08\n",
    "]"
   ]
  },
  {
   "cell_type": "code",
   "execution_count": 8,
   "metadata": {
    "collapsed": true
   },
   "outputs": [],
   "source": [
    "# data returned from sim next web service call\n",
    "prevx=[\n",
    "    910.396, 910.654, 910.952, 911.294, 911.68, 912.113, 912.593, 913.124, 913.704, 914.336, 915.021, 915.758, 916.549, 917.394, 918.293, 919.246, 920.253, 921.314, 922.429, 923.597, 924.817, 926.089, 927.413, 928.786, 930.209, 931.679, 933.197, 934.76, 936.363, 938.007, 939.692, 941.416, 943.177, 944.973, 946.802, 948.663, 950.553, 952.471, 954.413, 956.379, 958.366, 960.371, 962.392, 964.427, 966.474, 968.529, 970.591\n",
    "]\n",
    "prevy=[\n",
    "    1128.6, 1128.6, 1128.6, 1128.6, 1128.6, 1128.6, 1128.59, 1128.59, 1128.59, 1128.59, 1128.58, 1128.58, 1128.58, 1128.58, 1128.58, 1128.59, 1128.59, 1128.6, 1128.6, 1128.62, 1128.63, 1128.65, 1128.67, 1128.71, 1128.74, 1128.79, 1128.85, 1128.91, 1128.99, 1129.1, 1129.21, 1129.34, 1129.48, 1129.64, 1129.82, 1130.01, 1130.21, 1130.44, 1130.67, 1130.93, 1131.2, 1131.48, 1131.78, 1132.1, 1132.42, 1132.74, 1133.08\n",
    "]"
   ]
  },
  {
   "cell_type": "code",
   "execution_count": 16,
   "metadata": {
    "collapsed": true
   },
   "outputs": [],
   "source": [
    "s1=141.442\n",
    "s2=145.562\n",
    "d1=6.32842\n",
    "d2=6.27003\n",
    "points=3\n",
    "time=3*.02\n",
    "distance=math.sqrt((s2-s1)**2 + (d2-d1)**2)\n",
    "v=distance/time"
   ]
  },
  {
   "cell_type": "code",
   "execution_count": 17,
   "metadata": {},
   "outputs": [
    {
     "data": {
      "text/plain": [
       "68.67356234004635"
      ]
     },
     "execution_count": 17,
     "metadata": {},
     "output_type": "execute_result"
    }
   ],
   "source": [
    "v"
   ]
  },
  {
   "cell_type": "code",
   "execution_count": null,
   "metadata": {
    "collapsed": true
   },
   "outputs": [],
   "source": []
  }
 ],
 "metadata": {
  "kernelspec": {
   "display_name": "Python 3",
   "language": "python",
   "name": "python3"
  },
  "language_info": {
   "codemirror_mode": {
    "name": "ipython",
    "version": 3
   },
   "file_extension": ".py",
   "mimetype": "text/x-python",
   "name": "python",
   "nbconvert_exporter": "python",
   "pygments_lexer": "ipython3",
   "version": "3.6.2"
  }
 },
 "nbformat": 4,
 "nbformat_minor": 2
}
